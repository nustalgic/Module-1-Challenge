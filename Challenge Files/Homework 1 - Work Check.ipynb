{
 "cells": [
  {
   "cell_type": "code",
   "execution_count": 1,
   "id": "3512308c",
   "metadata": {},
   "outputs": [],
   "source": [
    "loan_costs = [500, 600, 200, 1000, 450]"
   ]
  },
  {
   "cell_type": "code",
   "execution_count": 2,
   "id": "727878e6",
   "metadata": {},
   "outputs": [
    {
     "data": {
      "text/plain": [
       "5"
      ]
     },
     "execution_count": 2,
     "metadata": {},
     "output_type": "execute_result"
    }
   ],
   "source": [
    "len(loan_costs)"
   ]
  },
  {
   "cell_type": "code",
   "execution_count": 3,
   "id": "0c88101f",
   "metadata": {},
   "outputs": [
    {
     "data": {
      "text/plain": [
       "2750"
      ]
     },
     "execution_count": 3,
     "metadata": {},
     "output_type": "execute_result"
    }
   ],
   "source": [
    "sum(loan_costs)"
   ]
  },
  {
   "cell_type": "code",
   "execution_count": 4,
   "id": "9a0c4887",
   "metadata": {},
   "outputs": [
    {
     "data": {
      "text/plain": [
       "550.0"
      ]
     },
     "execution_count": 4,
     "metadata": {},
     "output_type": "execute_result"
    }
   ],
   "source": [
    "sum(loan_costs) / len(loan_costs)"
   ]
  },
  {
   "cell_type": "code",
   "execution_count": 7,
   "id": "1cf34153",
   "metadata": {},
   "outputs": [],
   "source": [
    "loan = {\n",
    "    \"loan_price\": 500,\n",
    "    \"remaining_months\": 9,\n",
    "    \"repayment_interval\": \"bullet\",\n",
    "    \"future_value\": 1000,\n",
    "}"
   ]
  },
  {
   "cell_type": "code",
   "execution_count": 8,
   "id": "4c1518c4",
   "metadata": {
    "scrolled": true
   },
   "outputs": [
    {
     "name": "stdout",
     "output_type": "stream",
     "text": [
      "1000\n"
     ]
    }
   ],
   "source": [
    "future = loan.get(\"future_value\")\n",
    "print(future)"
   ]
  },
  {
   "cell_type": "code",
   "execution_count": 9,
   "id": "c39c127f",
   "metadata": {},
   "outputs": [
    {
     "name": "stdout",
     "output_type": "stream",
     "text": [
      "9\n"
     ]
    }
   ],
   "source": [
    "remain = loan.get(\"remaining_months\")\n",
    "print(remain)"
   ]
  },
  {
   "cell_type": "code",
   "execution_count": 16,
   "id": "d01164fe",
   "metadata": {},
   "outputs": [
    {
     "name": "stdout",
     "output_type": "stream",
     "text": [
      "500\n"
     ]
    }
   ],
   "source": [
    "cost = loan.get(\"loan_price\")\n",
    "print(cost)"
   ]
  },
  {
   "cell_type": "code",
   "execution_count": 18,
   "id": "7c0c8531",
   "metadata": {},
   "outputs": [],
   "source": [
    "fair_value = future / (1+0.20/12) ** 12"
   ]
  },
  {
   "cell_type": "code",
   "execution_count": 19,
   "id": "3d448134",
   "metadata": {},
   "outputs": [
    {
     "name": "stdout",
     "output_type": "stream",
     "text": [
      "820.0814425978174\n"
     ]
    }
   ],
   "source": [
    "print(fair_value)"
   ]
  },
  {
   "cell_type": "code",
   "execution_count": 21,
   "id": "f351a848",
   "metadata": {},
   "outputs": [
    {
     "name": "stdout",
     "output_type": "stream",
     "text": [
      "it's worth it\n"
     ]
    }
   ],
   "source": [
    "if fair_value > cost:\n",
    "    print(\"it's worth it\")\n",
    "\n",
    "else:\n",
    "    print(\"it's not worth it\")"
   ]
  },
  {
   "cell_type": "code",
   "execution_count": 31,
   "id": "b9508625",
   "metadata": {},
   "outputs": [],
   "source": [
    "new_loan = {\n",
    "    \"loan_price\": 800,\n",
    "    \"remaining_months\": 12,\n",
    "    \"repayment_interval\": \"bullet\",\n",
    "    \"future_value\": 1000,\n",
    "}"
   ]
  },
  {
   "cell_type": "code",
   "execution_count": 23,
   "id": "118c61b0",
   "metadata": {},
   "outputs": [],
   "source": [
    "def calculate_present_value(future_value, remaining_months, annual_discount_rate):\n",
    "    present_value = future_value / (1+annual_discount_rate/12) ** remaining_months\n",
    "    return present_value"
   ]
  },
  {
   "cell_type": "code",
   "execution_count": 25,
   "id": "a1bafbe1",
   "metadata": {},
   "outputs": [
    {
     "data": {
      "text/plain": [
       "820.0814425978174"
      ]
     },
     "execution_count": 25,
     "metadata": {},
     "output_type": "execute_result"
    }
   ],
   "source": [
    "calculate_present_value(future_value=1000, remaining_months=12, annual_discount_rate=.20)"
   ]
  },
  {
   "cell_type": "code",
   "execution_count": 32,
   "id": "563a141f",
   "metadata": {},
   "outputs": [
    {
     "data": {
      "text/plain": [
       "820.0814425978174"
      ]
     },
     "execution_count": 32,
     "metadata": {},
     "output_type": "execute_result"
    }
   ],
   "source": [
    "calculate_present_value(future_value=new_loan.get(\"future_value\"), remaining_months=new_loan.get(\"remaining_months\"), annual_discount_rate=.20)"
   ]
  },
  {
   "cell_type": "code",
   "execution_count": 33,
   "id": "15159435",
   "metadata": {},
   "outputs": [],
   "source": [
    "loans = [\n",
    "    {\n",
    "        \"loan_price\": 700,\n",
    "        \"remaining_months\": 9,\n",
    "        \"repayment_interval\": \"monthly\",\n",
    "        \"future_value\": 1000,\n",
    "    },\n",
    "    {\n",
    "        \"loan_price\": 500,\n",
    "        \"remaining_months\": 13,\n",
    "        \"repayment_interval\": \"bullet\",\n",
    "        \"future_value\": 1000,\n",
    "    },\n",
    "    {\n",
    "        \"loan_price\": 200,\n",
    "        \"remaining_months\": 16,\n",
    "        \"repayment_interval\": \"bullet\",\n",
    "        \"future_value\": 1000,\n",
    "    },\n",
    "    {\n",
    "        \"loan_price\": 900,\n",
    "        \"remaining_months\": 16,\n",
    "        \"repayment_interval\": \"bullet\",\n",
    "        \"future_value\": 1000,\n",
    "    },\n",
    "]"
   ]
  },
  {
   "cell_type": "code",
   "execution_count": 34,
   "id": "10b31f91",
   "metadata": {},
   "outputs": [],
   "source": [
    "inexpensive_loans = []"
   ]
  },
  {
   "cell_type": "code",
   "execution_count": 35,
   "id": "3c7e6c4a",
   "metadata": {},
   "outputs": [
    {
     "name": "stdout",
     "output_type": "stream",
     "text": [
      "[{'loan_price': 500, 'remaining_months': 13, 'repayment_interval': 'bullet', 'future_value': 1000}, {'loan_price': 200, 'remaining_months': 16, 'repayment_interval': 'bullet', 'future_value': 1000}]\n"
     ]
    }
   ],
   "source": [
    "for loan in loans:\n",
    "    \n",
    "    if loan.get(\"loan_price\") <= 500:\n",
    "        inexpensive_loans.append(loan)\n",
    "print(f\"{inexpensive_loans}\")"
   ]
  },
  {
   "cell_type": "code",
   "execution_count": null,
   "id": "bee08581",
   "metadata": {},
   "outputs": [],
   "source": [
    "with open(file=\"inexpensive_loans.csv\", mode=\"w\"):\n",
    "    csvwriter="
   ]
  }
 ],
 "metadata": {
  "kernelspec": {
   "display_name": "Python 3 (ipykernel)",
   "language": "python",
   "name": "python3"
  },
  "language_info": {
   "codemirror_mode": {
    "name": "ipython",
    "version": 3
   },
   "file_extension": ".py",
   "mimetype": "text/x-python",
   "name": "python",
   "nbconvert_exporter": "python",
   "pygments_lexer": "ipython3",
   "version": "3.9.7"
  }
 },
 "nbformat": 4,
 "nbformat_minor": 5
}
